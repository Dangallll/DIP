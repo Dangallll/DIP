{
 "cells": [
  {
   "cell_type": "code",
   "execution_count": 1,
   "id": "d7d885dc",
   "metadata": {},
   "outputs": [],
   "source": [
    "from utils.DIP import Image40\n",
    "import numpy as np\n",
    "import tifffile as tiff\n",
    "import matplotlib.pyplot as plt\n",
    "import argparse"
   ]
  },
  {
   "cell_type": "code",
   "execution_count": 2,
   "id": "b6b4a825",
   "metadata": {},
   "outputs": [],
   "source": [
    "parser = argparse.ArgumentParser(description='Original image, Dark image(for backgroound), Original ratios')\n",
    "parser.add_argument('--src_path', typerequired=True, help='path of image to be processed')\n",
    "parser.add_argument('--dark_path', required=True, help='path of dark image to be processed')\n",
    "parser.add_argument('--ratio_path', required=True, help='path of dark image to be processed')"
   ]
  },
  {
   "cell_type": "code",
   "execution_count": 30,
   "id": "efa018bb",
   "metadata": {},
   "outputs": [],
   "source": [
    "IMG = tiff.imread(\"C:/Users/NPL/KGH/5khz_polishedf_E_20_Iter_3006_output.tif\")\n",
    "Dark = np.ones((120,120), dtype = 'uint8') * 355\n",
    "P = np.genfromtxt(\"C:/Users/NPL/KGH/ratios/matP2.csv\", dtype='float', delimiter=\",\")"
   ]
  },
  {
   "cell_type": "code",
   "execution_count": 31,
   "id": "1ae94076",
   "metadata": {},
   "outputs": [],
   "source": [
    "img = Image40(IMG[50000,:,:], P, Dark)"
   ]
  },
  {
   "cell_type": "code",
   "execution_count": 32,
   "id": "6cd76bde",
   "metadata": {},
   "outputs": [
    {
     "data": {
      "text/plain": [
       "<matplotlib.colorbar.Colorbar at 0x1b9660ccb50>"
      ]
     },
     "execution_count": 32,
     "metadata": {},
     "output_type": "execute_result"
    },
    {
     "data": {
      "image/png": "[encoded data removed]",
      "text/plain": [
       "<Figure size 432x288 with 2 Axes>"
      ]
     },
     "metadata": {
      "needs_background": "light"
     },
     "output_type": "display_data"
    }
   ],
   "source": [
    "plt.imshow(img.img)\n",
    "plt.colorbar()"
   ]
  },
  {
   "cell_type": "code",
   "execution_count": 33,
   "id": "6f2b9aef",
   "metadata": {},
   "outputs": [
    {
     "data": {
      "text/plain": [
       "29112.9175"
      ]
     },
     "execution_count": 33,
     "metadata": {},
     "output_type": "execute_result"
    }
   ],
   "source": [
    "img.loss()"
   ]
  },
  {
   "cell_type": "code",
   "execution_count": 36,
   "id": "f53c7796",
   "metadata": {},
   "outputs": [
    {
     "data": {
      "text/plain": [
       "4228.609375"
      ]
     },
     "execution_count": 36,
     "metadata": {},
     "output_type": "execute_result"
    },
    {
     "data": {
      "image/png": "[encoded data removed]",
      "text/plain": [
       "<Figure size 432x288 with 2 Axes>"
      ]
     },
     "metadata": {
      "needs_background": "light"
     },
     "output_type": "display_data"
    }
   ],
   "source": [
    "plt.imshow(img.processed())\n",
    "\n",
    "plt.colorbar()\n",
    "\n",
    "img.loss()"
   ]
  },
  {
   "cell_type": "code",
   "execution_count": 35,
   "id": "9cd1c55d",
   "metadata": {},
   "outputs": [
    {
     "name": "stdout",
     "output_type": "stream",
     "text": [
      "fine tuning with par :  0.5\n",
      "tuning 0 %\n",
      "tuning 24 %\n",
      "tuning 49 %\n",
      "tuning 74 %\n",
      "tuning 99 %\n",
      "fine tuning with par :  0.4\n",
      "tuning 0 %\n",
      "tuning 24 %\n",
      "tuning 49 %\n",
      "tuning 74 %\n",
      "tuning 99 %\n",
      "fine tuning with par :  0.3\n",
      "tuning 0 %\n",
      "tuning 24 %\n",
      "tuning 49 %\n",
      "tuning 74 %\n",
      "tuning 99 %\n",
      "fine tuning with par :  0.2\n",
      "tuning 0 %\n",
      "tuning 24 %\n",
      "tuning 49 %\n",
      "tuning 74 %\n",
      "tuning 99 %\n",
      "fine tuning with par :  0.1\n",
      "tuning 0 %\n",
      "tuning 24 %\n",
      "tuning 49 %\n",
      "tuning 74 %\n",
      "tuning 99 %\n"
     ]
    }
   ],
   "source": [
    "img.Sfinetune()"
   ]
  },
  {
   "cell_type": "code",
   "execution_count": 37,
   "id": "cee0ccb1",
   "metadata": {},
   "outputs": [],
   "source": [
    "adjP = img.P"
   ]
  },
  {
   "cell_type": "code",
   "execution_count": 38,
   "id": "ab3a7c45",
   "metadata": {},
   "outputs": [],
   "source": [
    "def DEMIX(image, filename, dark, P):\n",
    "    \n",
    "    frames = image.shape[0]\n",
    "    \n",
    "    a = np.zeros((frames,120,120), dtype = 'int16')\n",
    "\n",
    "    for i in range(0,frames):\n",
    "        \n",
    "        k = Image40(image[i,:,:], P, Dark)\n",
    "\n",
    "        a[i,:,:] = k.processed()\n",
    "        \n",
    "        if i%10000 == 0:\n",
    "            \n",
    "            print(\"processing\", i,\"th frame...\" )\n",
    "        \n",
    "    tiff.imsave(filename, a)\n",
    "    print(a.dtype)\n",
    "    \n",
    "    print(\"=\"*50)\n",
    "    print(\"done!\")"
   ]
  },
  {
   "cell_type": "code",
   "execution_count": null,
   "id": "759188f6",
   "metadata": {},
   "outputs": [],
   "source": []
  },
  {
   "cell_type": "code",
   "execution_count": 39,
   "id": "5cb88973",
   "metadata": {},
   "outputs": [
    {
     "name": "stdout",
     "output_type": "stream",
     "text": [
      "processing 0 th frame...\n",
      "processing 10000 th frame...\n",
      "processing 20000 th frame...\n",
      "processing 30000 th frame...\n",
      "processing 40000 th frame...\n",
      "processing 50000 th frame...\n",
      "processing 60000 th frame...\n",
      "int16\n",
      "==================================================\n",
      "done!\n"
     ]
    }
   ],
   "source": [
    "DEMIX(IMG, \"demixed0627_wDeepcad.tiff\", Dark, adjP)"
   ]
  }
 ],
 "metadata": {
  "kernelspec": {
   "display_name": "Python 3 (ipykernel)",
   "language": "python",
   "name": "python3"
  },
  "language_info": {
   "codemirror_mode": {
    "name": "ipython",
    "version": 3
   },
   "file_extension": ".py",
   "mimetype": "text/x-python",
   "name": "python",
   "nbconvert_exporter": "python",
   "pygments_lexer": "ipython3",
   "version": "3.9.7"
  }
 },
 "nbformat": 4,
 "nbformat_minor": 5
}
